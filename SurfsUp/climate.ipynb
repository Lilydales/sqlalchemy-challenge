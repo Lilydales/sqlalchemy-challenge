{
 "cells": [
  {
   "cell_type": "code",
   "execution_count": 179,
   "id": "e8cf9fe7-2b64-486b-a0c8-0fa9357e47b6",
   "metadata": {},
   "outputs": [],
   "source": [
    "import pandas as pd\n",
    "import numpy as np\n",
    "import matplotlib.pyplot as plt\n",
    "import matplotlib.dates as mdates\n",
    "import datetime as dt\n",
    "from pathlib import Path\n",
    "# Python SQL toolkit and Object Relational Mapper\n",
    "import sqlalchemy\n",
    "from sqlalchemy.ext.automap import automap_base\n",
    "from sqlalchemy.orm import Session,declarative_base\n",
    "from sqlalchemy import create_engine, func, text,Column, Integer, String,Date, Float,inspect,and_"
   ]
  },
  {
   "cell_type": "markdown",
   "id": "59574260-2b66-4545-b266-ec68082e95c0",
   "metadata": {},
   "source": [
    "# Reflect Tables into SQLAlchemy ORM"
   ]
  },
  {
   "cell_type": "code",
   "execution_count": 38,
   "id": "1092db65-3bda-4c65-bfa4-d7cc96d134b6",
   "metadata": {},
   "outputs": [],
   "source": [
    "#class\n",
    "class measurement_tb(declarative_base()):\n",
    "    __tablename__=\"measurement\"\n",
    "    station=Column(String,primary_key=True)\n",
    "    date=Column(Date)\n",
    "    precipitation=Column(Float)\n",
    "    temperature=Column(Float)"
   ]
  },
  {
   "cell_type": "code",
   "execution_count": 9,
   "id": "da59873b-b751-4178-b51e-6de26bf47924",
   "metadata": {},
   "outputs": [],
   "source": [
    "#Declare dependancies\n",
    "database_path= Path(\"../Resources/hawaii.sqlite\")\n",
    "#Create engine to sqlite\n",
    "engine=create_engine(f\"sqlite:///{database_path}\")"
   ]
  },
  {
   "cell_type": "code",
   "execution_count": 20,
   "id": "5bb5bceb-3e7a-45c5-8ecd-d38704b5b02c",
   "metadata": {},
   "outputs": [
    {
     "data": {
      "text/plain": [
       "['measurement', 'station']"
      ]
     },
     "execution_count": 20,
     "metadata": {},
     "output_type": "execute_result"
    }
   ],
   "source": [
    "# Create the inspector and connect it to the engine\n",
    "inspector = inspect(engine)\n",
    "# Collect the names of tables within the database\n",
    "inspector.get_table_names()"
   ]
  },
  {
   "cell_type": "code",
   "execution_count": 140,
   "id": "d935a66f-07ab-4a17-a627-188641aac2fd",
   "metadata": {},
   "outputs": [
    {
     "name": "stdout",
     "output_type": "stream",
     "text": [
      "----\n",
      "Table name: measurement\n",
      "----\n",
      "id INTEGER\n",
      "station TEXT\n",
      "date TEXT\n",
      "prcp FLOAT\n",
      "tobs FLOAT\n",
      "----\n",
      "Table name: station\n",
      "----\n",
      "id INTEGER\n",
      "station TEXT\n",
      "name TEXT\n",
      "latitude FLOAT\n",
      "longitude FLOAT\n",
      "elevation FLOAT\n"
     ]
    }
   ],
   "source": [
    "#Get columns details for all tables\n",
    "for table in inspector.get_table_names():\n",
    "    print('----')\n",
    "    print(\"Table name: \" + table)\n",
    "    print('----')\n",
    "    columns_details=inspector.get_columns(table)\n",
    "    for column in columns_details:\n",
    "        print(column['name'],column['type'])"
   ]
  },
  {
   "cell_type": "code",
   "execution_count": 15,
   "id": "6cb84581-8719-4f89-9804-08d2f8eb5671",
   "metadata": {},
   "outputs": [
    {
     "data": {
      "text/plain": [
       "['station', 'measurement']"
      ]
     },
     "execution_count": 15,
     "metadata": {},
     "output_type": "execute_result"
    }
   ],
   "source": [
    "# Declare a Base using `automap_base()`\n",
    "Base = automap_base()\n",
    "# Use the Base class to reflect the database tables\n",
    "Base.prepare(autoload_with=engine)\n",
    "# Print all of the classes mapped to the Base\n",
    "Base.classes.keys()"
   ]
  },
  {
   "cell_type": "code",
   "execution_count": 41,
   "id": "a8c90a68-2a59-4682-a6dd-6b008e671e09",
   "metadata": {},
   "outputs": [],
   "source": [
    "# Assign the station class to a variable called `station`\n",
    "Station=Base.classes.station\n",
    "# Assign the measurement class to a variable called `measurement`\n",
    "Measurement=Base.classes.measurement"
   ]
  },
  {
   "cell_type": "code",
   "execution_count": 132,
   "id": "b9ec2d00-7d42-45ad-869b-420a4843108a",
   "metadata": {},
   "outputs": [],
   "source": [
    "# Create a session\n",
    "session = Session(engine)"
   ]
  },
  {
   "cell_type": "markdown",
   "id": "8020bfd5-31f0-47a7-84df-5d9c53934711",
   "metadata": {},
   "source": [
    "# Exploratory Precipitation Analysis"
   ]
  },
  {
   "cell_type": "code",
   "execution_count": 28,
   "id": "b387f6f2-4f07-42d0-b498-c2450a833d87",
   "metadata": {},
   "outputs": [],
   "source": [
    "#Function\n",
    "def relativedelta(months=12): #find the total of days in months (assume that 1 month = 30days)\n",
    "    delta=months*30\n",
    "    return delta\n",
    "    "
   ]
  },
  {
   "cell_type": "code",
   "execution_count": 29,
   "id": "7f8d0ac2-062f-44f4-92c4-32e27bba3624",
   "metadata": {},
   "outputs": [
    {
     "data": {
      "text/plain": [
       "'2017-08-23'"
      ]
     },
     "execution_count": 29,
     "metadata": {},
     "output_type": "execute_result"
    }
   ],
   "source": [
    "# Find the most recent date in the data set.\n",
    "most_recent_record = session.query(Measurement).order_by(Measurement.date.desc()).first()\n",
    "most_recent_record.date"
   ]
  },
  {
   "cell_type": "code",
   "execution_count": 129,
   "id": "8de6e192-9429-4dc7-add1-f54fe0b5efce",
   "metadata": {},
   "outputs": [
    {
     "data": {
      "text/html": [
       "<div>\n",
       "<style scoped>\n",
       "    .dataframe tbody tr th:only-of-type {\n",
       "        vertical-align: middle;\n",
       "    }\n",
       "\n",
       "    .dataframe tbody tr th {\n",
       "        vertical-align: top;\n",
       "    }\n",
       "\n",
       "    .dataframe thead th {\n",
       "        text-align: right;\n",
       "    }\n",
       "</style>\n",
       "<table border=\"1\" class=\"dataframe\">\n",
       "  <thead>\n",
       "    <tr style=\"text-align: right;\">\n",
       "      <th></th>\n",
       "      <th>Date</th>\n",
       "      <th>Precipitation</th>\n",
       "    </tr>\n",
       "  </thead>\n",
       "  <tbody>\n",
       "    <tr>\n",
       "      <th>2222</th>\n",
       "      <td>2017-08-23</td>\n",
       "      <td>11.4</td>\n",
       "    </tr>\n",
       "    <tr>\n",
       "      <th>1523</th>\n",
       "      <td>2017-08-23</td>\n",
       "      <td>2.0</td>\n",
       "    </tr>\n",
       "    <tr>\n",
       "      <th>1005</th>\n",
       "      <td>2017-08-23</td>\n",
       "      <td>0.0</td>\n",
       "    </tr>\n",
       "    <tr>\n",
       "      <th>359</th>\n",
       "      <td>2017-08-23</td>\n",
       "      <td>0.0</td>\n",
       "    </tr>\n",
       "    <tr>\n",
       "      <th>1522</th>\n",
       "      <td>2017-08-22</td>\n",
       "      <td>0.0</td>\n",
       "    </tr>\n",
       "    <tr>\n",
       "      <th>...</th>\n",
       "      <td>...</td>\n",
       "      <td>...</td>\n",
       "    </tr>\n",
       "    <tr>\n",
       "      <th>1188</th>\n",
       "      <td>2016-08-24</td>\n",
       "      <td>31.0</td>\n",
       "    </tr>\n",
       "    <tr>\n",
       "      <th>1875</th>\n",
       "      <td>2016-08-24</td>\n",
       "      <td>36.8</td>\n",
       "    </tr>\n",
       "    <tr>\n",
       "      <th>360</th>\n",
       "      <td>2016-08-24</td>\n",
       "      <td>54.6</td>\n",
       "    </tr>\n",
       "    <tr>\n",
       "      <th>1524</th>\n",
       "      <td>2016-08-24</td>\n",
       "      <td>54.6</td>\n",
       "    </tr>\n",
       "    <tr>\n",
       "      <th>0</th>\n",
       "      <td>2016-08-24</td>\n",
       "      <td>2.0</td>\n",
       "    </tr>\n",
       "  </tbody>\n",
       "</table>\n",
       "<p>2223 rows × 2 columns</p>\n",
       "</div>"
      ],
      "text/plain": [
       "            Date  Precipitation\n",
       "2222  2017-08-23           11.4\n",
       "1523  2017-08-23            2.0\n",
       "1005  2017-08-23            0.0\n",
       "359   2017-08-23            0.0\n",
       "1522  2017-08-22            0.0\n",
       "...          ...            ...\n",
       "1188  2016-08-24           31.0\n",
       "1875  2016-08-24           36.8\n",
       "360   2016-08-24           54.6\n",
       "1524  2016-08-24           54.6\n",
       "0     2016-08-24            2.0\n",
       "\n",
       "[2223 rows x 2 columns]"
      ]
     },
     "execution_count": 129,
     "metadata": {},
     "output_type": "execute_result"
    }
   ],
   "source": [
    "#Convert most recent record.date to date time\n",
    "most_recent_record_converted=dt.datetime.strptime(most_recent_record.date,'%Y-%m-%d')\n",
    "# Calculate the date 12 months ago from the most recent date in the dataset\n",
    "twelve_months_ago = most_recent_record_converted-dt.timedelta(days=365)\n",
    "# Perform a query to retrieve the data and precipitation scores\n",
    "precipitation_result=session.query(Measurement.date,Measurement.prcp).filter(\n",
    "    Measurement.date>=twelve_months_ago).all()\n",
    "#Save the query results as a Pandas DataFrame.\n",
    "precipitation_df=pd.DataFrame(precipitation_result,columns=\\\n",
    "                              ['Date',\"Precipitation\"]).sort_values(by='Date',ascending=False)\n",
    "precipitation_df['Date'] = pd.to_datetime(precipitation_df['Date']).dt.date\n",
    "precipitation_df\n"
   ]
  },
  {
   "cell_type": "code",
   "execution_count": 146,
   "id": "f73ed1f0-1fa7-46e6-a955-a9d8c7fd2f47",
   "metadata": {},
   "outputs": [
    {
     "data": {
      "image/png": "[encoded data removed]",
      "text/plain": [
       "<Figure size 600x600 with 1 Axes>"
      ]
     },
     "metadata": {},
     "output_type": "display_data"
    }
   ],
   "source": [
    "#Plot a bar chart\n",
    "plt.figure(figsize=(6, 6))\n",
    "precipitation_df.sort_values(by='Date').set_index('Date')['Precipitation'].plot(kind='bar',\\\n",
    "                                                                                width=30, alpha=0.9,position=0,\\\n",
    "                                                                               legend=True,grid=True)\n",
    "plt.xlabel('Date')\n",
    "plt.ylabel('Precipitation')\n",
    "plt.title('Last 12 Months of Precipitation Data')\n",
    "plt.gca().xaxis.set_major_locator(mdates.MonthLocator(interval=5))\n",
    "plt.xticks(rotation=90)\n",
    "plt.tight_layout()\n",
    "plt.show()"
   ]
  },
  {
   "cell_type": "code",
   "execution_count": 148,
   "id": "e6a1e00d-d28d-4df2-9b8c-5910909cc800",
   "metadata": {},
   "outputs": [
    {
     "data": {
      "text/html": [
       "<div>\n",
       "<style scoped>\n",
       "    .dataframe tbody tr th:only-of-type {\n",
       "        vertical-align: middle;\n",
       "    }\n",
       "\n",
       "    .dataframe tbody tr th {\n",
       "        vertical-align: top;\n",
       "    }\n",
       "\n",
       "    .dataframe thead th {\n",
       "        text-align: right;\n",
       "    }\n",
       "</style>\n",
       "<table border=\"1\" class=\"dataframe\">\n",
       "  <thead>\n",
       "    <tr style=\"text-align: right;\">\n",
       "      <th></th>\n",
       "      <th>Precipitation</th>\n",
       "    </tr>\n",
       "  </thead>\n",
       "  <tbody>\n",
       "    <tr>\n",
       "      <th>count</th>\n",
       "      <td>2015.000000</td>\n",
       "    </tr>\n",
       "    <tr>\n",
       "      <th>mean</th>\n",
       "      <td>4.485112</td>\n",
       "    </tr>\n",
       "    <tr>\n",
       "      <th>std</th>\n",
       "      <td>11.690532</td>\n",
       "    </tr>\n",
       "    <tr>\n",
       "      <th>min</th>\n",
       "      <td>0.000000</td>\n",
       "    </tr>\n",
       "    <tr>\n",
       "      <th>25%</th>\n",
       "      <td>0.000000</td>\n",
       "    </tr>\n",
       "    <tr>\n",
       "      <th>50%</th>\n",
       "      <td>0.500000</td>\n",
       "    </tr>\n",
       "    <tr>\n",
       "      <th>75%</th>\n",
       "      <td>3.300000</td>\n",
       "    </tr>\n",
       "    <tr>\n",
       "      <th>max</th>\n",
       "      <td>170.200000</td>\n",
       "    </tr>\n",
       "  </tbody>\n",
       "</table>\n",
       "</div>"
      ],
      "text/plain": [
       "       Precipitation\n",
       "count    2015.000000\n",
       "mean        4.485112\n",
       "std        11.690532\n",
       "min         0.000000\n",
       "25%         0.000000\n",
       "50%         0.500000\n",
       "75%         3.300000\n",
       "max       170.200000"
      ]
     },
     "execution_count": 148,
     "metadata": {},
     "output_type": "execute_result"
    }
   ],
   "source": [
    "# Use Pandas to calculate the summary statistics for the precipitation data\n",
    "precipitation_df.describe()"
   ]
  },
  {
   "cell_type": "markdown",
   "id": "4e2b91e1-eedd-4b55-a1e5-40de8114a244",
   "metadata": {},
   "source": [
    "# Exploratory Station Analysis"
   ]
  },
  {
   "cell_type": "code",
   "execution_count": 151,
   "id": "5f67855c-9a98-4bf3-8be9-7466d3b5a1e2",
   "metadata": {},
   "outputs": [
    {
     "data": {
      "text/plain": [
       "9"
      ]
     },
     "execution_count": 151,
     "metadata": {},
     "output_type": "execute_result"
    }
   ],
   "source": [
    "# Design a query to calculate the total number of stations in the dataset\n",
    "total_station=session.query(Station.station)\n",
    "total_station.count()"
   ]
  },
  {
   "cell_type": "code",
   "execution_count": 158,
   "id": "5ecc4ec5-312c-407f-b4ae-a1d61aa5ed6b",
   "metadata": {},
   "outputs": [
    {
     "data": {
      "text/plain": [
       "[('USC00519281', 2772),\n",
       " ('USC00519397', 2724),\n",
       " ('USC00513117', 2709),\n",
       " ('USC00519523', 2669),\n",
       " ('USC00516128', 2612),\n",
       " ('USC00514830', 2202),\n",
       " ('USC00511918', 1979),\n",
       " ('USC00517948', 1372),\n",
       " ('USC00518838', 511)]"
      ]
     },
     "execution_count": 158,
     "metadata": {},
     "output_type": "execute_result"
    }
   ],
   "source": [
    "# Design a query to find the most active stations (i.e. which stations have the most rows?)\n",
    "most_active_stations=session.query(Measurement.station,func.count(Measurement.station)).\\\n",
    "                                    group_by(Measurement.station).\\\n",
    "                                    order_by(func.count(Measurement.station).desc())\n",
    "#Show the top 10 active stations\n",
    "most_active_stations.limit(10).all()"
   ]
  },
  {
   "cell_type": "code",
   "execution_count": 161,
   "id": "2379f5a1-8572-47b5-bb4d-8856a42d8604",
   "metadata": {},
   "outputs": [
    {
     "data": {
      "text/plain": [
       "('USC00519281', 12.2, 29.4, 22.03582251082252)"
      ]
     },
     "execution_count": 161,
     "metadata": {},
     "output_type": "execute_result"
    }
   ],
   "source": [
    "# Using the most active station id from the previous query, calculate the lowest, highest, and average temperature.\n",
    "most_active_station=session.query(Measurement.station,func.min(Measurement.tobs),\\\n",
    "                                 func.max(Measurement.tobs),func.avg(Measurement.tobs)).\\\n",
    "                                    group_by(Measurement.station).\\\n",
    "                                    order_by(func.count(Measurement.station).desc()).first()\n",
    "most_active_station"
   ]
  },
  {
   "cell_type": "code",
   "execution_count": 199,
   "id": "797e4ab7-2a35-4c6d-8799-b4e8be120778",
   "metadata": {},
   "outputs": [],
   "source": [
    "# Using the most active station id\n",
    "#Get the recent date of the most active station\n",
    "most_recent_date_most_active_station=session.query(Measurement.date).filter(Measurement.station==most_active_station[0]).\\\n",
    "                                            order_by(Measurement.date.desc()).first()[0]\n",
    "\n",
    "#Convert most recent record.date to date time\n",
    "most_recent_date_most_active_station_converted=dt.datetime.strptime(most_recent_date_most_active_station,'%Y-%m-%d')\n",
    "# Calculate the date 12 months ago from the most recent date in the dataset\n",
    "twelve_months_ago = most_recent_date_most_active_station_converted-dt.timedelta(days=365)\n",
    "# Query the last 12 months of temperature observation data for this station\n",
    "temperate_most_active_station_last12months=session.query(Measurement.tobs).\\\n",
    "                                            filter(and_(Measurement.date>=twelve_months_ago,\\\n",
    "                                                       Measurement.station==most_active_station[0])).all()\n",
    "#Save the query results as a Pandas DataFrame.\n",
    "temperate_most_active_station_last12months_df=pd.DataFrame(temperate_most_active_station_last12months,\\\n",
    "                                                          columns=['Temperature'])"
   ]
  },
  {
   "cell_type": "code",
   "execution_count": 220,
   "id": "88e55a50-1d4b-40a4-be64-e88e85618138",
   "metadata": {},
   "outputs": [
    {
     "data": {
      "image/png": "[encoded data removed]",
      "text/plain": [
       "<Figure size 640x480 with 1 Axes>"
      ]
     },
     "metadata": {},
     "output_type": "display_data"
    }
   ],
   "source": [
    "#Plot the results as a histogram\n",
    "temperate_most_active_station_last12months_df.plot(kind='hist',\\\n",
    "                                                        bins=12,alpha=0.8,\\\n",
    "                                                        legend=True,grid=True)\n",
    "plt.xlabel('Temperature')\n",
    "plt.ylabel('Frequency')\n",
    "plt.title('Last 12 Months Temperature Observations')\n",
    "plt.tight_layout()\n",
    "\n",
    "plt.grid(True, linestyle='--', linewidth=0.5, color='black', alpha=0.1)\n",
    "#Remove the frame of the chart\n",
    "plt.gca().spines['top'].set_visible(False)\n",
    "plt.gca().spines['bottom'].set_visible(False)\n",
    "plt.gca().spines['right'].set_visible(False)\n",
    "plt.gca().spines['left'].set_visible(False)\n",
    "#Remove tick but keep labels\n",
    "plt.gca().tick_params(axis='both', which='both', length=0)\n",
    "plt.show()"
   ]
  },
  {
   "cell_type": "markdown",
   "id": "ea0c2ca1-d92e-4324-bfab-1e347e40c7d9",
   "metadata": {},
   "source": [
    "# Close Session"
   ]
  },
  {
   "cell_type": "code",
   "execution_count": null,
   "id": "7f74d1c5-8e94-4bc5-9400-ccaea432cde1",
   "metadata": {},
   "outputs": [],
   "source": [
    "# Close Session\n",
    "session.close()"
   ]
  }
 ],
 "metadata": {
  "kernelspec": {
   "display_name": "Python 3 (ipykernel)",
   "language": "python",
   "name": "python3"
  },
  "language_info": {
   "codemirror_mode": {
    "name": "ipython",
    "version": 3
   },
   "file_extension": ".py",
   "mimetype": "text/x-python",
   "name": "python",
   "nbconvert_exporter": "python",
   "pygments_lexer": "ipython3",
   "version": "3.11.1"
  }
 },
 "nbformat": 4,
 "nbformat_minor": 5
}
